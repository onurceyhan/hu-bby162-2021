{
  "nbformat": 4,
  "nbformat_minor": 0,
  "metadata": {
    "colab": {
      "name": "Untitled0.ipynb",
      "provenance": [],
      "authorship_tag": "ABX9TyOKRTiCHUrZp4HvXWBQxcW2",
      "include_colab_link": true
    },
    "kernelspec": {
      "name": "python3",
      "display_name": "Python 3"
    }
  },
  "cells": [
    {
      "cell_type": "markdown",
      "metadata": {
        "id": "view-in-github",
        "colab_type": "text"
      },
      "source": [
        "<a href=\"https://colab.research.google.com/github/onurceyhan/hu-bby162-2021/blob/main/1-bolum-odev.ipynb\" target=\"_parent\"><img src=\"https://colab.research.google.com/assets/colab-badge.svg\" alt=\"Open In Colab\"/></a>"
      ]
    },
    {
      "cell_type": "code",
      "metadata": {
        "colab": {
          "base_uri": "https://localhost:8080/"
        },
        "id": "5g6c6NI3hmhh",
        "outputId": "95cd2bc8-8d6d-452e-aab1-6c10254ac0dd"
      },
      "source": [
        "#BBY162 dersi için kod içerisinde bilgilendirme yazısı denemesi\r\n",
        "print(\"Merhaba Dünya!\")\r\n",
        "\r\n",
        "\r\n",
        "#print(\"Ödev için deneme\")\r\n",
        "\r\n"
      ],
      "execution_count": 8,
      "outputs": [
        {
          "output_type": "stream",
          "text": [
            "Merhaba Dünya!\n"
          ],
          "name": "stdout"
        }
      ]
    }
  ]
}