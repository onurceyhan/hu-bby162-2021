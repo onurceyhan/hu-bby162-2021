{
  "nbformat": 4,
  "nbformat_minor": 0,
  "metadata": {
    "colab": {
      "name": "adres.ipynb",
      "provenance": [],
      "mount_file_id": "1SNO65d7gTsk3ULNrdhKEnVVXsFsq-sVM",
      "authorship_tag": "ABX9TyNHG1LV9aBFE80IPnhPsG29",
      "include_colab_link": true
    },
    "kernelspec": {
      "name": "python3",
      "display_name": "Python 3"
    }
  },
  "cells": [
    {
      "cell_type": "markdown",
      "metadata": {
        "id": "view-in-github",
        "colab_type": "text"
      },
      "source": [
        "<a href=\"https://colab.research.google.com/github/onurceyhan/hu-bby162-2021/blob/main/adres.ipynb\" target=\"_parent\"><img src=\"https://colab.research.google.com/assets/colab-badge.svg\" alt=\"Open In Colab\"/></a>"
      ]
    },
    {
      "cell_type": "code",
      "metadata": {
        "colab": {
          "base_uri": "https://localhost:8080/"
        },
        "id": "5g6c6NI3hmhh",
        "outputId": "4329e9ca-92af-4960-ca56-fe8510e0369e"
      },
      "source": [
        "dosya = \"/content/drive/MyDrive/Colab Notebooks/adres.txt\"\n",
        "\n",
        "f = open(dosya, \"r\") \n",
        "\n",
        "for line in f.readlines():\n",
        "    print(line)\n",
        "\n",
        "f.close()"
      ],
      "execution_count": 1,
      "outputs": [
        {
          "output_type": "stream",
          "text": [
            "Onur Ceyhan\n",
            "\n",
            "onueceyhan07@gmail.com\n"
          ],
          "name": "stdout"
        }
      ]
    }
  ]
}