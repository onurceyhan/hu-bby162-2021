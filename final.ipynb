{
  "nbformat": 4,
  "nbformat_minor": 0,
  "metadata": {
    "colab": {
      "name": "final.ipynb",
      "provenance": [],
      "mount_file_id": "1ASj7XvvDrw_VWtamJc27oFrZflmHM094",
      "authorship_tag": "ABX9TyORlvyxJouOuT1EOZ5obrT5",
      "include_colab_link": true
    },
    "kernelspec": {
      "name": "python3",
      "display_name": "Python 3"
    },
    "language_info": {
      "name": "python"
    }
  },
  "cells": [
    {
      "cell_type": "markdown",
      "metadata": {
        "id": "view-in-github",
        "colab_type": "text"
      },
      "source": [
        "<a href=\"https://colab.research.google.com/github/onurceyhan/hu-bby162-2021/blob/main/final.ipynb\" target=\"_parent\"><img src=\"https://colab.research.google.com/assets/colab-badge.svg\" alt=\"Open In Colab\"/></a>"
      ]
    },
    {
      "cell_type": "code",
      "metadata": {
        "id": "s_itXIRQkoJn"
      },
      "source": [
        "dosya = \"/content/drive/MyDrive/Colab Notebooks/final.txt\"\n",
        "\n",
        "def EserListele():\n",
        "  acilanDosya = open(dosya, \"r\")\n",
        "  for line in acilanDosya.readlines():\n",
        "    print(line)\n",
        "  \n",
        "  acilanDosya.close()\n",
        "\n",
        "def EserKaydet():\n",
        "   eserBilgileri = input(\"Eser Adı, Yazar Adı, Yayın Evi, Tarihi ve ISBN numarasını giriniz:\")\n",
        "   f = open(dosya, \"a\")\n",
        "   f.close()\n",
        "  \n",
        "def menu():\n",
        "  print(\"Kataloğa Hoşgeldiniz!\")\n",
        "  print(\"1)Kayıt Listele , 2)Eser Kaydet\")\n",
        "  acilis = input(\"Açmak istediğiniz yerin numarasını yazınız.\")\n",
        "  numaralar = (\"1\",\"2\")\n",
        "  if acilis == numaralar[0]:\n",
        "    print(EserListele())\n",
        "  elif acilis == numaralar[1]:\n",
        "    print(EserKaydet())\n",
        "  else : \n",
        "    print(\"Geçersiz bir numara girdiniz!\")\n",
        "\n",
        "print(menu())\n",
        "\n",
        "\n",
        "\n"
      ],
      "execution_count": null,
      "outputs": []
    }
  ]
}